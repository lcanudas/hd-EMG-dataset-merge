{
 "cells": [
  {
   "cell_type": "code",
   "execution_count": 1,
   "metadata": {},
   "outputs": [],
   "source": [
    "import sys\n",
    "sys.path.append('..')\n",
    "from src.read_databases import read_database4, read_database3"
   ]
  },
  {
   "cell_type": "code",
   "execution_count": 4,
   "metadata": {},
   "outputs": [
    {
     "data": {
      "text/plain": [
       "array([[-1.74238541e-02,  2.14170768e-02,  3.44896755e-02,\n",
       "        -4.50036592e-03, -3.43323136e-02, -7.08993493e-03,\n",
       "         5.13711521e-02,  2.49706775e-02],\n",
       "       [-1.29892812e-02, -2.46039779e-02, -2.02811777e-02,\n",
       "        -7.64778006e-03, -1.56966677e-02, -7.11257012e-03,\n",
       "         1.82766340e-02, -1.46136311e-02],\n",
       "       [-1.81030665e-03,  3.32862504e-03,  4.34225697e-03,\n",
       "         4.20962506e-02,  1.50914041e-02, -1.02634883e-02,\n",
       "        -4.06569783e-02, -6.16442909e-03],\n",
       "       [ 1.76371176e-02, -3.24689040e-02,  3.53066145e-05,\n",
       "         9.51738378e-03, -5.93914320e-03,  4.33618039e-03,\n",
       "         4.72667448e-02,  3.00249670e-03],\n",
       "       [-3.45200846e-02,  7.46027751e-03, -1.33752825e-03,\n",
       "        -3.52369685e-02, -1.27939703e-02,  1.80674027e-02,\n",
       "        -2.46302150e-02, -2.60679073e-03],\n",
       "       [ 8.73712700e-03, -4.54696475e-02, -1.62257175e-02,\n",
       "         2.31879515e-03,  2.31204809e-02, -1.60577621e-02,\n",
       "        -3.35234515e-02, -3.84754949e-03],\n",
       "       [ 2.58293965e-02, -2.44290274e-02, -3.68950140e-02,\n",
       "         5.11063524e-02, -2.93130094e-02, -2.70121402e-02,\n",
       "        -4.54396134e-02, -2.87558606e-04],\n",
       "       [ 4.41012090e-02, -5.28689230e-03, -3.28126157e-02,\n",
       "        -3.55288058e-02, -6.08681114e-03,  2.20474080e-02,\n",
       "        -1.93615123e-02,  5.66730481e-03]])"
      ]
     },
     "execution_count": 4,
     "metadata": {},
     "output_type": "execute_result"
    }
   ],
   "source": [
    "read_database4(10,8, 8, 3, 'biceps', 'p', 10, None, pathcwd='../')"
   ]
  },
  {
   "cell_type": "code",
   "execution_count": 6,
   "metadata": {},
   "outputs": [
    {
     "data": {
      "text/plain": [
       "['/media/rnwatanabe/Data/Renato/hd-EMG-dataset-merge',\n",
       " '/media/rnwatanabe/Data/Renato/hd-EMG-dataset-merge/notebooks',\n",
       " '/home/rnwatanabe/miniconda3/lib/python310.zip',\n",
       " '/home/rnwatanabe/miniconda3/lib/python3.10',\n",
       " '/home/rnwatanabe/miniconda3/lib/python3.10/lib-dynload',\n",
       " '',\n",
       " '/home/rnwatanabe/miniconda3/lib/python3.10/site-packages']"
      ]
     },
     "execution_count": 6,
     "metadata": {},
     "output_type": "execute_result"
    }
   ],
   "source": [
    "sys.path"
   ]
  },
  {
   "cell_type": "code",
   "execution_count": 2,
   "metadata": {},
   "outputs": [
    {
     "data": {
      "text/plain": [
       "{'CHROME_DESKTOP': 'code-url-handler.desktop',\n",
       " 'DBUS_SESSION_BUS_ADDRESS': 'unix:path=/run/user/1001/bus',\n",
       " 'DEBUGINFOD_URLS': 'https://debuginfod.ubuntu.com ',\n",
       " 'DEFAULTS_PATH': '/usr/share/gconf/ubuntu.default.path',\n",
       " 'DESKTOP_SESSION': 'ubuntu',\n",
       " 'DISPLAY': ':1',\n",
       " 'GDK_BACKEND': 'x11',\n",
       " 'GDMSESSION': 'ubuntu',\n",
       " 'GIO_LAUNCHED_DESKTOP_FILE': '/usr/share/applications/code.desktop',\n",
       " 'GIO_LAUNCHED_DESKTOP_FILE_PID': '14931',\n",
       " 'GJS_DEBUG_OUTPUT': 'stderr',\n",
       " 'GJS_DEBUG_TOPICS': 'JS ERROR;JS LOG',\n",
       " 'GNOME_DESKTOP_SESSION_ID': 'this-is-deprecated',\n",
       " 'GNOME_SHELL_SESSION_MODE': 'ubuntu',\n",
       " 'GPG_AGENT_INFO': '/run/user/1001/gnupg/S.gpg-agent:0:1',\n",
       " 'GTK2_MODULES': 'overlay-scrollbar',\n",
       " 'GTK_MODULES': 'gail:atk-bridge',\n",
       " 'HOME': '/home/rnwatanabe',\n",
       " 'IM_CONFIG_PHASE': '1',\n",
       " 'INVOCATION_ID': '01973f34134c482c9b942f9f170ba053',\n",
       " 'JAVA_HOME': '/usr/lib/jvm/default-java',\n",
       " 'JOURNAL_STREAM': '8:25318',\n",
       " 'LANG': 'en_US.UTF-8',\n",
       " 'LC_ADDRESS': 'en_US.UTF-8',\n",
       " 'LC_IDENTIFICATION': 'en_US.UTF-8',\n",
       " 'LC_MEASUREMENT': 'en_US.UTF-8',\n",
       " 'LC_MONETARY': 'en_US.UTF-8',\n",
       " 'LC_NAME': 'en_US.UTF-8',\n",
       " 'LC_NUMERIC': 'en_US.UTF-8',\n",
       " 'LC_PAPER': 'en_US.UTF-8',\n",
       " 'LC_TELEPHONE': 'en_US.UTF-8',\n",
       " 'LC_TIME': 'en_US.UTF-8',\n",
       " 'LOGNAME': 'rnwatanabe',\n",
       " 'MANAGERPID': '2325',\n",
       " 'MANDATORY_PATH': '/usr/share/gconf/ubuntu.mandatory.path',\n",
       " 'ORIGINAL_XDG_CURRENT_DESKTOP': 'ubuntu:GNOME',\n",
       " 'PAPERSIZE': 'letter',\n",
       " 'PATH': '/media/rnwatanabe/Data/Renato/hd-EMG-dataset-merge/hdemg/bin:/home/rnwatanabe/miniconda3/bin:/home/rnwatanabe/miniconda3/condabin:/usr/local/sbin:/usr/local/bin:/usr/sbin:/usr/bin:/sbin:/bin:/usr/games:/usr/local/games:/snap/bin:/snap/bin',\n",
       " 'PWD': '/home/rnwatanabe',\n",
       " 'QTWEBENGINE_DICTIONARIES_PATH': '/usr/share/hunspell-bdic/',\n",
       " 'QT_ACCESSIBILITY': '1',\n",
       " 'QT_IM_MODULE': 'ibus',\n",
       " 'QT_QPA_PLATFORMTHEME': 'appmenu-qt5',\n",
       " 'SESSION_MANAGER': 'local/bmclab09:@/tmp/.ICE-unix/2738,unix/bmclab09:/tmp/.ICE-unix/2738',\n",
       " 'SHELL': '/bin/bash',\n",
       " 'SHLVL': '0',\n",
       " 'SSH_AGENT_LAUNCHER': 'openssh',\n",
       " 'SSH_AUTH_SOCK': '/run/user/1001/keyring/ssh',\n",
       " 'SYSTEMD_EXEC_PID': '2768',\n",
       " 'USER': 'rnwatanabe',\n",
       " 'USERNAME': 'rnwatanabe',\n",
       " 'VSCODE_AMD_ENTRYPOINT': 'vs/workbench/api/node/extensionHostProcess',\n",
       " 'VSCODE_CODE_CACHE_PATH': '/home/rnwatanabe/.config/Code/CachedData/1e790d77f81672c49be070e04474901747115651',\n",
       " 'VSCODE_CRASH_REPORTER_PROCESS_TYPE': 'extensionHost',\n",
       " 'VSCODE_CWD': '/home/rnwatanabe',\n",
       " 'VSCODE_HANDLES_UNCAUGHT_ERRORS': 'true',\n",
       " 'VSCODE_IPC_HOOK': '/run/user/1001/vscode-00a6ae38-1.87-main.sock',\n",
       " 'VSCODE_NLS_CONFIG': '{\"locale\":\"en-us\",\"osLocale\":\"en-us\",\"availableLanguages\":{},\"_languagePackSupport\":true}',\n",
       " 'VSCODE_PID': '14931',\n",
       " 'WINDOWPATH': '2',\n",
       " 'XAUTHORITY': '/run/user/1001/gdm/Xauthority',\n",
       " 'XDG_CONFIG_DIRS': '/etc/xdg/xdg-ubuntu:/etc/xdg',\n",
       " 'XDG_CURRENT_DESKTOP': 'Unity',\n",
       " 'XDG_DATA_DIRS': '/usr/share/ubuntu:/usr/share/gnome:/home/rnwatanabe/.local/share/flatpak/exports/share:/var/lib/flatpak/exports/share:/usr/local/share/:/usr/share/:/var/lib/snapd/desktop:/var/lib/snapd/desktop',\n",
       " 'XDG_MENU_PREFIX': 'gnome-',\n",
       " 'XDG_RUNTIME_DIR': '/run/user/1001',\n",
       " 'XDG_SESSION_CLASS': 'user',\n",
       " 'XDG_SESSION_DESKTOP': 'ubuntu',\n",
       " 'XDG_SESSION_TYPE': 'x11',\n",
       " 'XMODIFIERS': '@im=ibus',\n",
       " '_': '/media/rnwatanabe/Data/Renato/hd-EMG-dataset-merge/hdemg/bin/python',\n",
       " 'ELECTRON_RUN_AS_NODE': '1',\n",
       " 'APPLICATION_INSIGHTS_NO_DIAGNOSTIC_CHANNEL': '1',\n",
       " 'VSCODE_L10N_BUNDLE_LOCATION': '',\n",
       " 'PYTHONUNBUFFERED': '1',\n",
       " 'CONDA_EXE': '/home/rnwatanabe/miniconda3/bin/conda',\n",
       " '_CE_M': '',\n",
       " 'XML_CATALOG_FILES': 'file:///home/rnwatanabe/miniconda3/etc/xml/catalog file:///etc/xml/catalog',\n",
       " 'GSETTINGS_SCHEMA_DIR': '/home/rnwatanabe/miniconda3/share/glib-2.0/schemas',\n",
       " 'SE_MANAGER_PATH': '/home/rnwatanabe/miniconda3/bin/selenium-manager',\n",
       " 'CONDA_PREFIX': '/home/rnwatanabe/miniconda3',\n",
       " 'GSETTINGS_SCHEMA_DIR_CONDA_BACKUP': '',\n",
       " 'VIRTUAL_ENV': '/media/rnwatanabe/Data/Renato/hd-EMG-dataset-merge/hdemg',\n",
       " 'CONDA_PROMPT_MODIFIER': '(base) ',\n",
       " 'PYTHONPATH': '/media/rnwatanabe/Data/Renato/hd-EMG-dataset-merge',\n",
       " '_CE_CONDA': '',\n",
       " 'PYTHONIOENCODING': 'utf-8',\n",
       " 'CONDA_SHLVL': '1',\n",
       " 'VIRTUAL_ENV_PROMPT': '(hdemg) ',\n",
       " 'CONDA_PYTHON_EXE': '/home/rnwatanabe/miniconda3/bin/python',\n",
       " 'PS1': '(hdemg) (base) ',\n",
       " 'CONDA_DEFAULT_ENV': 'base',\n",
       " 'PYDEVD_IPYTHON_COMPATIBLE_DEBUGGING': '1',\n",
       " 'PYDEVD_USE_FRAME_EVAL': 'NO',\n",
       " 'TERM': 'xterm-color',\n",
       " 'CLICOLOR': '1',\n",
       " 'FORCE_COLOR': '1',\n",
       " 'CLICOLOR_FORCE': '1',\n",
       " 'PAGER': 'cat',\n",
       " 'GIT_PAGER': 'cat',\n",
       " 'MPLBACKEND': 'module://matplotlib_inline.backend_inline'}"
      ]
     },
     "execution_count": 2,
     "metadata": {},
     "output_type": "execute_result"
    }
   ],
   "source": []
  },
  {
   "cell_type": "code",
   "execution_count": null,
   "metadata": {},
   "outputs": [],
   "source": []
  }
 ],
 "metadata": {
  "kernelspec": {
   "display_name": "hdemg",
   "language": "python",
   "name": "python3"
  },
  "language_info": {
   "codemirror_mode": {
    "name": "ipython",
    "version": 3
   },
   "file_extension": ".py",
   "mimetype": "text/x-python",
   "name": "python",
   "nbconvert_exporter": "python",
   "pygments_lexer": "ipython3",
   "version": "3.10.13"
  }
 },
 "nbformat": 4,
 "nbformat_minor": 2
}
